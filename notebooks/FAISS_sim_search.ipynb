{
 "cells": [
  {
   "cell_type": "code",
   "execution_count": null,
   "metadata": {},
   "outputs": [],
   "source": [
    "%%capture\n",
    "\n",
    "%cd .."
   ]
  },
  {
   "cell_type": "markdown",
   "metadata": {},
   "source": [
    "### Get MMLU and MuTual (no speaker tags) contexts"
   ]
  },
  {
   "cell_type": "code",
   "execution_count": null,
   "metadata": {},
   "outputs": [],
   "source": [
    "from pathlib import Path\n",
    "from typing import List, Optional, Union\n",
    "\n",
    "from datasets import DatasetDict, load_dataset\n",
    "\n",
    "from baseline.conf import DATA_DIR\n",
    "from baseline.multi_choice.utils_multiple_choice import MuTualProcessor, InputExample\n",
    "\n",
    "\n",
    "def get_mmlu_contexts(\n",
    "    mmlu: Optional[DatasetDict] = None,\n",
    "    subset: str = \"all\",\n",
    "    split: str = \"auxiliary_train\",\n",
    ") -> List[str]:\n",
    "    \"\"\"\"\"\"\n",
    "    valid_splits = [\"auxiliary_train\", \"test\", \"validation\", \"dev\"]\n",
    "    assert (\n",
    "        split in valid_splits\n",
    "    ), f\"Unknown MMLU split {split!r}, available: {valid_splits}\"\n",
    "    if mmlu is None:\n",
    "        mmlu = load_dataset(\"cais/mmlu\", name=subset)\n",
    "    return [dp[\"question\"] for dp in mmlu[split]]\n",
    "\n",
    "\n",
    "def get_mutual_contexts(\n",
    "    data_dir: Union[Path, str] = DATA_DIR,\n",
    "    subset: str = \"mutual_plus\",\n",
    "    processor: Optional[MuTualProcessor] = None,\n",
    "    split: str = \"train\",\n",
    "    remove_context_speakers: bool = True,\n",
    ") -> List[str]:\n",
    "    \"\"\"\"\"\"\n",
    "    valid_splits, valid_subsets = [\"train\", \"dev\", \"test\"], [\"mutual\", \"mutual_plus\"]\n",
    "    assert (\n",
    "        split in valid_splits\n",
    "    ), f\"Unknown MuTual split {split!r}, available: {valid_splits}\"\n",
    "    assert (\n",
    "        subset in valid_subsets\n",
    "    ), f\"Unknown MuTual subset {subset!r}, available: {valid_subsets}\"\n",
    "    if processor is None:\n",
    "        processor = MuTualProcessor()\n",
    "    data_split: List[InputExample] = getattr(processor, f\"get_{split}_examples\")(\n",
    "        Path(data_dir) / subset\n",
    "    )\n",
    "    if remove_context_speakers:\n",
    "        for dp in data_split:\n",
    "            dp.inplace_remove_speakers(process_endings=False)\n",
    "    return [dp.contexts[0] for dp in data_split]"
   ]
  },
  {
   "cell_type": "code",
   "execution_count": null,
   "metadata": {},
   "outputs": [
    {
     "name": "stderr",
     "output_type": "stream",
     "text": [
      "Found cached dataset mmlu (/home/xqz-u/.cache/huggingface/datasets/cais___mmlu/all/1.0.0/1f5be36877bf67bdc9a548113a281aec5730e14ead069b31cb63971b9fab210d)\n"
     ]
    },
    {
     "data": {
      "application/vnd.jupyter.widget-view+json": {
       "model_id": "57050abcc2994dc0a782aa72105c256c",
       "version_major": 2,
       "version_minor": 0
      },
      "text/plain": [
       "  0%|          | 0/4 [00:00<?, ?it/s]"
      ]
     },
     "metadata": {},
     "output_type": "display_data"
    },
    {
     "data": {
      "text/plain": [
       "DatasetDict({\n",
       "    auxiliary_train: Dataset({\n",
       "        features: ['question', 'subject', 'choices', 'answer'],\n",
       "        num_rows: 99842\n",
       "    })\n",
       "    test: Dataset({\n",
       "        features: ['question', 'subject', 'choices', 'answer'],\n",
       "        num_rows: 14042\n",
       "    })\n",
       "    validation: Dataset({\n",
       "        features: ['question', 'subject', 'choices', 'answer'],\n",
       "        num_rows: 1531\n",
       "    })\n",
       "    dev: Dataset({\n",
       "        features: ['question', 'subject', 'choices', 'answer'],\n",
       "        num_rows: 285\n",
       "    })\n",
       "})"
      ]
     },
     "execution_count": null,
     "metadata": {},
     "output_type": "execute_result"
    }
   ],
   "source": [
    "mmlu = load_dataset(\"cais/mmlu\", name=\"all\")\n",
    "mmlu"
   ]
  },
  {
   "cell_type": "code",
   "execution_count": null,
   "metadata": {},
   "outputs": [
    {
     "name": "stdout",
     "output_type": "stream",
     "text": [
      "99842\n",
      "Davis decided to kill Adams. He set out for Adams's house. Before he got there he saw Brooks, who resembled Adams. Thinking that Brooks was Adams, Davis shot at Brooks. The shot missed Brooks but wounded Case, who was some distance away. Davis had not seen Case. In a prosecution under a statute that proscribes any attempt to commit murder, the district attorney should indicate that the intended victim(s) was/were\n",
      "Davis decided to kill Adams. He set out for Adams's house. Before he got there he saw Brooks, who resembled Adams. Thinking that Brooks was Adams, Davis shot at Brooks. The shot missed Brooks but wounded Case, who was some distance away. Davis had not seen Case. In a prosecution under a statute that proscribes any attempt to commit murder, the district attorney should indicate that the intended victim(s) was/were\n"
     ]
    }
   ],
   "source": [
    "mmlu_train_ctx = get_mmlu_contexts(mmlu=mmlu)\n",
    "print(len(mmlu_train_ctx))\n",
    "print(mmlu[\"auxiliary_train\"][0][\"question\"])\n",
    "print(mmlu_train_ctx[0])"
   ]
  },
  {
   "cell_type": "code",
   "execution_count": null,
   "metadata": {},
   "outputs": [
    {
     "name": "stderr",
     "output_type": "stream",
     "text": [
      "read files: 100%|██████████| 7088/7088 [00:01<00:00, 4762.52it/s]\n"
     ]
    },
    {
     "name": "stdout",
     "output_type": "stream",
     "text": [
      "7088\n"
     ]
    },
    {
     "name": "stderr",
     "output_type": "stream",
     "text": [
      "read files: 100%|██████████| 7088/7088 [00:00<00:00, 25070.46it/s]"
     ]
    },
    {
     "name": "stdout",
     "output_type": "stream",
     "text": [
      "F: The children have been playing in the mountains for a long time. Why haven't they come back? I am really worried about them. M: Look at the sky. Black clouds are gathering and strong winds are blowing. It seems a heavy rain will fall soon.\n",
      "The children have been playing in the mountains for a long time. Why haven't they come back? I am really worried about them. Look at the sky. Black clouds are gathering and strong winds are blowing. It seems a heavy rain will fall soon.\n"
     ]
    },
    {
     "name": "stderr",
     "output_type": "stream",
     "text": [
      "\n"
     ]
    }
   ],
   "source": [
    "mutual_processor = MuTualProcessor()\n",
    "mutualplus_train_ctx = get_mutual_contexts(processor=mutual_processor)\n",
    "print(len(mutualplus_train_ctx))\n",
    "print(mutual_processor.get_train_examples(DATA_DIR / \"mutual_plus\")[0].contexts[0])\n",
    "print(mutualplus_train_ctx[0])\n"
   ]
  },
  {
   "cell_type": "markdown",
   "metadata": {},
   "source": [
    "### Embed them all!"
   ]
  },
  {
   "cell_type": "code",
   "execution_count": null,
   "metadata": {},
   "outputs": [
    {
     "data": {
      "text/plain": [
       "HuggingFaceEmbeddings(client=SentenceTransformer(\n",
       "  (0): Transformer({'max_seq_length': 256, 'do_lower_case': False}) with Transformer model: BertModel \n",
       "  (1): Pooling({'word_embedding_dimension': 384, 'pooling_mode_cls_token': False, 'pooling_mode_mean_tokens': True, 'pooling_mode_max_tokens': False, 'pooling_mode_mean_sqrt_len_tokens': False})\n",
       "  (2): Normalize()\n",
       "), model_name='all-MiniLM-L6-v2', cache_folder=None, model_kwargs={}, encode_kwargs={}, multi_process=False)"
      ]
     },
     "execution_count": null,
     "metadata": {},
     "output_type": "execute_result"
    }
   ],
   "source": [
    "from langchain.embeddings import HuggingFaceEmbeddings\n",
    "\n",
    "embedding_model_name = \"all-MiniLM-L6-v2\"\n",
    "is_uncased_model = True\n",
    "\n",
    "embedder = HuggingFaceEmbeddings(model_name=embedding_model_name)\n",
    "embedder\n"
   ]
  },
  {
   "cell_type": "markdown",
   "metadata": {},
   "source": [
    "Some embedding models, like `all-MiniLM-L6-v2`, are trained on *lower-cased* text. However, seeing frome these examples,\n",
    "it doesn't make a big difference whether text is lower-cased by tokenizer. If the embeddings are compared with a \n",
    "tolerance level lower than `1e-7`, then some array elements show an (overly) sensible difference!"
   ]
  },
  {
   "cell_type": "code",
   "execution_count": null,
   "metadata": {},
   "outputs": [
    {
     "name": "stdout",
     "output_type": "stream",
     "text": [
      "What's your schedule like after school? I usually go to the gym on Thursdays and Saturdays. And on Wednesdays, I take guitar lessons in the evening at a music school.\n",
      "what's your schedule like after school? i usually go to the gym on thursdays and saturdays. and on wednesdays, i take guitar lessons in the evening at a music school.\n",
      "0.0\n",
      "True\n",
      "(array([], dtype=int64),)\n",
      "True\n",
      "(array([], dtype=int64),)\n"
     ]
    }
   ],
   "source": [
    "import numpy as np\n",
    "\n",
    "cased_mutual_s = np.random.choice(mutualplus_train_ctx)\n",
    "uncased_mutual_s = cased_mutual_s.lower()\n",
    "print(cased_mutual_s)\n",
    "print(uncased_mutual_s)\n",
    "\n",
    "x = np.array(embedder.embed_documents([cased_mutual_s, uncased_mutual_s]))\n",
    "print((x[0] - x[1]).min())\n",
    "print(np.allclose(x[0], x[1], atol=1e-7))\n",
    "print(np.where(~np.isclose(x[0], x[1])))\n",
    "\n",
    "x = np.array(embedder.embed_documents([uncased_mutual_s, uncased_mutual_s]))\n",
    "print(np.allclose(x[0], x[1], atol=1e-7))\n",
    "print(np.where(~np.isclose(x[0], x[1])))\n",
    "# print(x[0] - x[1])\n"
   ]
  },
  {
   "cell_type": "code",
   "execution_count": null,
   "metadata": {},
   "outputs": [
    {
     "name": "stdout",
     "output_type": "stream",
     "text": [
      "0.0\n",
      "True\n",
      "(array([], dtype=int64),)\n",
      "True\n",
      "(array([], dtype=int64),)\n"
     ]
    }
   ],
   "source": [
    "# tell the tokenizer to lower-case text before embedding\n",
    "embedder.client[0].do_lower_case = is_uncased_model\n",
    "\n",
    "x = np.array(embedder.embed_documents([cased_mutual_s, uncased_mutual_s]))\n",
    "print((x[0] - x[1]).min())\n",
    "print(np.allclose(x[0], x[1], atol=1e-7))\n",
    "print(np.where(~np.isclose(x[0], x[1])))\n",
    "\n",
    "x = np.array(embedder.embed_documents([uncased_mutual_s, uncased_mutual_s]))\n",
    "print(np.allclose(x[0], x[1], atol=1e-7))\n",
    "print(np.where(~np.isclose(x[0], x[1])))\n",
    "# print(x[0] - x[1])\n"
   ]
  },
  {
   "cell_type": "markdown",
   "metadata": {},
   "source": [
    "#### Check the overall amount of texts that would exceed model's context size - `max_seq_length` property"
   ]
  },
  {
   "cell_type": "code",
   "execution_count": null,
   "metadata": {},
   "outputs": [],
   "source": [
    "tokenizer = embedder.client[0].tokenizer\n",
    "max_len = embedder.client[0].max_seq_length\n"
   ]
  },
  {
   "cell_type": "code",
   "execution_count": null,
   "metadata": {},
   "outputs": [],
   "source": [
    "mutualplus_train_toks = tokenizer(mutualplus_train_ctx)[\"input_ids\"]\n",
    "mutualplus_exceeding = [\n",
    "    (i, n_toks)\n",
    "    for i, s_toks in enumerate(mutualplus_train_toks)\n",
    "    if (n_toks := len(s_toks)) > max_len\n",
    "]\n",
    "mutualplus_max_exceeding = max(el[1] for el in mutualplus_exceeding)\n",
    "mutualplus_n_exceeding = len(mutualplus_exceeding)\n",
    "mutualplus_train_len = len(mutualplus_train_ctx)\n",
    "mutualplus_prop_exceeding = mutualplus_n_exceeding / mutualplus_train_len\n"
   ]
  },
  {
   "cell_type": "code",
   "execution_count": null,
   "metadata": {},
   "outputs": [
    {
     "name": "stdout",
     "output_type": "stream",
     "text": [
      "106/7088 (1.495%) exceed max context len 256 for mutualplus\n",
      "mutualplus max exceeding length: 394\n"
     ]
    }
   ],
   "source": [
    "print(\n",
    "    f\"{mutualplus_n_exceeding}/{mutualplus_train_len} ({mutualplus_prop_exceeding * 100:.3f}%) exceed max context len {max_len} for mutualplus\"\n",
    ")\n",
    "print(f\"mutualplus max exceeding length: {mutualplus_max_exceeding}\")\n"
   ]
  },
  {
   "cell_type": "code",
   "execution_count": null,
   "metadata": {},
   "outputs": [
    {
     "name": "stderr",
     "output_type": "stream",
     "text": [
      "  0%|          | 0/10 [00:00<?, ?it/s]Token indices sequence length is longer than the specified maximum sequence length for this model (521 > 512). Running this sequence through the model will result in indexing errors\n",
      "100%|██████████| 10/10 [00:51<00:00,  5.11s/it]\n"
     ]
    }
   ],
   "source": [
    "import tqdm\n",
    "\n",
    "mmlu_train_len = len(mmlu_train_ctx)\n",
    "bsize = int(1e4)\n",
    "mmlu_exceeding = []\n",
    "\n",
    "for i in tqdm.trange(0, mmlu_train_len, bsize):\n",
    "    end = min(i + bsize, mmlu_train_len)\n",
    "    toks = tokenizer(mmlu_train_ctx[i:end])[\"input_ids\"]\n",
    "    mmlu_exceeding += [\n",
    "        (i, n_toks)\n",
    "        for i, s_toks in enumerate(toks)\n",
    "        if (n_toks := len(s_toks)) > max_len\n",
    "    ]\n",
    "mmlu_max_exceeding = max(el[1] for el in mmlu_exceeding)\n",
    "mmlu_n_exceeding = len(mmlu_exceeding)\n",
    "mmlu_train_len = len(mmlu_train_ctx)\n",
    "mmlu_prop_exceeding = mmlu_n_exceeding / mmlu_train_len\n"
   ]
  },
  {
   "cell_type": "code",
   "execution_count": null,
   "metadata": {},
   "outputs": [
    {
     "name": "stdout",
     "output_type": "stream",
     "text": [
      "70988/99842 (71.100%) exceed max context len 256 for mmlu\n",
      "mmlu max exceeding length: 1472\n"
     ]
    }
   ],
   "source": [
    "print(\n",
    "    f\"{mmlu_n_exceeding}/{mmlu_train_len} ({mmlu_prop_exceeding * 100:.3f}%) exceed max context len {max_len} for mmlu\"\n",
    ")\n",
    "print(f\"mmlu max exceeding length: {mmlu_max_exceeding}\")\n"
   ]
  },
  {
   "cell_type": "code",
   "execution_count": null,
   "metadata": {},
   "outputs": [
    {
     "data": {
      "image/png": "[encoded data removed]",
      "text/plain": [
       "<Figure size 640x480 with 1 Axes>"
      ]
     },
     "metadata": {},
     "output_type": "display_data"
    }
   ],
   "source": [
    "from matplotlib import pyplot as plt\n",
    "import seaborn as sns\n",
    "\n",
    "ax = sns.histplot([el[1] for el in mmlu_exceeding])\n",
    "ax.set_title(f\"Distribution of datapoints exceeding max_seq_length {max_len} for MMLU\");\n",
    "plt.tight_layout()"
   ]
  }
 ],
 "metadata": {
  "kernelspec": {
   "display_name": "Python 3",
   "language": "python",
   "name": "python3"
  }
 },
 "nbformat": 4,
 "nbformat_minor": 2
}
