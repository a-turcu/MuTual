{
 "cells": [
  {
   "cell_type": "code",
   "execution_count": null,
   "metadata": {},
   "outputs": [],
   "source": [
    "%%capture\n",
    "\n",
    "%cd .."
   ]
  },
  {
   "cell_type": "markdown",
   "metadata": {},
   "source": [
    "## Get MMLU and MuTual (no speaker tags) contexts"
   ]
  },
  {
   "cell_type": "code",
   "execution_count": null,
   "metadata": {},
   "outputs": [],
   "source": [
    "from pathlib import Path\n",
    "from typing import List, Optional, Union\n",
    "\n",
    "from datasets import DatasetDict, load_dataset\n",
    "\n",
    "from baseline.conf import DATA_DIR\n",
    "from baseline.multi_choice.utils_multiple_choice import MuTualProcessor, InputExample\n",
    "\n",
    "\n",
    "def get_mmlu_contexts(\n",
    "    mmlu: Optional[DatasetDict] = None,\n",
    "    subset: str = \"all\",\n",
    "    split: str = \"auxiliary_train\",\n",
    ") -> List[str]:\n",
    "    \"\"\"\"\"\"\n",
    "    valid_splits = [\"auxiliary_train\", \"test\", \"validation\", \"dev\"]\n",
    "    assert (\n",
    "        split in valid_splits\n",
    "    ), f\"Unknown MMLU split {split!r}, available: {valid_splits}\"\n",
    "    if mmlu is None:\n",
    "        mmlu = load_dataset(\"cais/mmlu\", name=subset)\n",
    "    return [dp[\"question\"] for dp in mmlu[split]]\n",
    "\n",
    "\n",
    "def get_mutual_contexts(\n",
    "    data_dir: Union[Path, str] = DATA_DIR,\n",
    "    subset: str = \"mutual_plus\",\n",
    "    processor: Optional[MuTualProcessor] = None,\n",
    "    split: str = \"train\",\n",
    "    remove_context_speakers: bool = True,\n",
    ") -> List[str]:\n",
    "    \"\"\"\"\"\"\n",
    "    valid_splits, valid_subsets = [\"train\", \"dev\", \"test\"], [\"mutual\", \"mutual_plus\"]\n",
    "    assert (\n",
    "        split in valid_splits\n",
    "    ), f\"Unknown MuTual split {split!r}, available: {valid_splits}\"\n",
    "    assert (\n",
    "        subset in valid_subsets\n",
    "    ), f\"Unknown MuTual subset {subset!r}, available: {valid_subsets}\"\n",
    "    if processor is None:\n",
    "        processor = MuTualProcessor()\n",
    "    data_split: List[InputExample] = getattr(processor, f\"get_{split}_examples\")(\n",
    "        Path(data_dir) / subset\n",
    "    )\n",
    "    if remove_context_speakers:\n",
    "        for dp in data_split:\n",
    "            dp.inplace_remove_speakers(process_endings=False)\n",
    "    return [dp.contexts[0] for dp in data_split]\n"
   ]
  },
  {
   "cell_type": "code",
   "execution_count": null,
   "metadata": {},
   "outputs": [
    {
     "name": "stderr",
     "output_type": "stream",
     "text": [
      "Found cached dataset mmlu (/home/scur0643/.cache/huggingface/datasets/cais___mmlu/all/1.0.0/1f5be36877bf67bdc9a548113a281aec5730e14ead069b31cb63971b9fab210d)\n"
     ]
    },
    {
     "data": {
      "application/vnd.jupyter.widget-view+json": {
       "model_id": "5280b919f6444a90be5796308a1022e8",
       "version_major": 2,
       "version_minor": 0
      },
      "text/plain": [
       "  0%|          | 0/4 [00:00<?, ?it/s]"
      ]
     },
     "metadata": {},
     "output_type": "display_data"
    },
    {
     "data": {
      "text/plain": [
       "DatasetDict({\n",
       "    auxiliary_train: Dataset({\n",
       "        features: ['question', 'subject', 'choices', 'answer'],\n",
       "        num_rows: 99842\n",
       "    })\n",
       "    test: Dataset({\n",
       "        features: ['question', 'subject', 'choices', 'answer'],\n",
       "        num_rows: 14042\n",
       "    })\n",
       "    validation: Dataset({\n",
       "        features: ['question', 'subject', 'choices', 'answer'],\n",
       "        num_rows: 1531\n",
       "    })\n",
       "    dev: Dataset({\n",
       "        features: ['question', 'subject', 'choices', 'answer'],\n",
       "        num_rows: 285\n",
       "    })\n",
       "})"
      ]
     },
     "execution_count": null,
     "metadata": {},
     "output_type": "execute_result"
    }
   ],
   "source": [
    "mmlu = load_dataset(\"cais/mmlu\", name=\"all\")\n",
    "mmlu\n"
   ]
  },
  {
   "cell_type": "code",
   "execution_count": null,
   "metadata": {},
   "outputs": [
    {
     "name": "stdout",
     "output_type": "stream",
     "text": [
      "99842\n",
      "Davis decided to kill Adams. He set out for Adams's house. Before he got there he saw Brooks, who resembled Adams. Thinking that Brooks was Adams, Davis shot at Brooks. The shot missed Brooks but wounded Case, who was some distance away. Davis had not seen Case. In a prosecution under a statute that proscribes any attempt to commit murder, the district attorney should indicate that the intended victim(s) was/were\n",
      "Davis decided to kill Adams. He set out for Adams's house. Before he got there he saw Brooks, who resembled Adams. Thinking that Brooks was Adams, Davis shot at Brooks. The shot missed Brooks but wounded Case, who was some distance away. Davis had not seen Case. In a prosecution under a statute that proscribes any attempt to commit murder, the district attorney should indicate that the intended victim(s) was/were\n"
     ]
    }
   ],
   "source": [
    "mmlu_train_ctx = get_mmlu_contexts(mmlu=mmlu)\n",
    "print(len(mmlu_train_ctx))\n",
    "print(mmlu[\"auxiliary_train\"][0][\"question\"])\n",
    "print(mmlu_train_ctx[0])\n"
   ]
  },
  {
   "cell_type": "code",
   "execution_count": null,
   "metadata": {},
   "outputs": [
    {
     "name": "stderr",
     "output_type": "stream",
     "text": [
      "read files:   0%|          | 0/7088 [00:00<?, ?it/s]"
     ]
    },
    {
     "name": "stderr",
     "output_type": "stream",
     "text": [
      "read files: 100%|██████████| 7088/7088 [00:03<00:00, 2328.72it/s]\n"
     ]
    },
    {
     "name": "stdout",
     "output_type": "stream",
     "text": [
      "7088\n"
     ]
    },
    {
     "name": "stderr",
     "output_type": "stream",
     "text": [
      "read files: 100%|██████████| 7088/7088 [00:00<00:00, 17249.99it/s]"
     ]
    },
    {
     "name": "stdout",
     "output_type": "stream",
     "text": [
      "F: Hi, can I help you? M: I hope so. My name is Mark. I'm... F: Don't I remember you from last year? You worked in, uh, where was it? The art library? M: You have a good memory. Yeah, that was me, and I really enjoyed the work. But for this year. F: Well, if you come in earlier. You could probably have gotten the library job again, but now... M: I plan to get a job in a restaurant this year. I really need it to make more money and working as a waiter. There always the tips. But I've tried a ton of places and I haven't found anything, and then my friend Susan. She takes photography classes in Harrison Hall. And she sort of thought there might be an opening there.\n",
      "Hi, can I help you? I hope so. My name is Mark. I'm... Don't I remember you from last year? You worked in, uh, where was it? The art library? You have a good memory. Yeah, that was me, and I really enjoyed the work. But for this year. Well, if you come in earlier. You could probably have gotten the library job again, but now... I plan to get a job in a restaurant this year. I really need it to make more money and working as a waiter. There always the tips. But I've tried a ton of places and I haven't found anything, and then my friend Susan. She takes photography classes in Harrison Hall. And she sort of thought there might be an opening there.\n"
     ]
    },
    {
     "name": "stderr",
     "output_type": "stream",
     "text": [
      "\n"
     ]
    }
   ],
   "source": [
    "mutual_processor = MuTualProcessor()\n",
    "mutualplus_train_ctx = get_mutual_contexts(processor=mutual_processor)\n",
    "print(len(mutualplus_train_ctx))\n",
    "print(mutual_processor.get_train_examples(DATA_DIR / \"mutual_plus\")[0].contexts[0])\n",
    "print(mutualplus_train_ctx[0])\n"
   ]
  },
  {
   "cell_type": "markdown",
   "metadata": {},
   "source": [
    "## EDA"
   ]
  },
  {
   "cell_type": "code",
   "execution_count": null,
   "metadata": {},
   "outputs": [
    {
     "data": {
      "text/plain": [
       "HuggingFaceEmbeddings(client=SentenceTransformer(\n",
       "  (0): Transformer({'max_seq_length': 256, 'do_lower_case': False}) with Transformer model: BertModel \n",
       "  (1): Pooling({'word_embedding_dimension': 384, 'pooling_mode_cls_token': False, 'pooling_mode_mean_tokens': True, 'pooling_mode_max_tokens': False, 'pooling_mode_mean_sqrt_len_tokens': False})\n",
       "  (2): Normalize()\n",
       "), model_name='all-MiniLM-L6-v2', cache_folder=None, model_kwargs={}, encode_kwargs={}, multi_process=False)"
      ]
     },
     "execution_count": null,
     "metadata": {},
     "output_type": "execute_result"
    }
   ],
   "source": [
    "from langchain.embeddings import HuggingFaceEmbeddings\n",
    "\n",
    "embedding_model_case_map = {\"all-MiniLM-L6-v2\": True}\n",
    "\n",
    "embedding_model_name = \"all-MiniLM-L6-v2\"\n",
    "embedder = HuggingFaceEmbeddings(model_name=embedding_model_name)\n",
    "embedder\n"
   ]
  },
  {
   "cell_type": "markdown",
   "metadata": {},
   "source": [
    "### Does using uncased text make a difference?"
   ]
  },
  {
   "cell_type": "markdown",
   "metadata": {},
   "source": [
    "Some embedding models, like `all-MiniLM-L6-v2`, are trained on *lower-cased* text. However, seeing frome these examples,\n",
    "it doesn't make a big difference whether text is lower-cased by tokenizer. If the embeddings are compared with a \n",
    "tolerance level lower than `1e-7`, then some array elements show an (overly) sensible difference!"
   ]
  },
  {
   "cell_type": "code",
   "execution_count": null,
   "metadata": {},
   "outputs": [
    {
     "name": "stdout",
     "output_type": "stream",
     "text": [
      "Good morning. Morning. Come in. Sit down. Now, you're a new patient, aren't you? Yes, that's right. OK. So I better ask you some questions first. Now, have you ever had any serious illnesses or accidents? A broken leg I got from playing football when I was 17. I was in the school team at that time. Anything else? No. Apart from that, nothing. And have you had any operations of any kind? Now the only time I've been to hospital before was when I broke my leg. Fine. Any allergies? Yes, to dust and cats. How do you react? They both make me sneeze a bit. Nothing else.\n",
      "good morning. morning. come in. sit down. now, you're a new patient, aren't you? yes, that's right. ok. so i better ask you some questions first. now, have you ever had any serious illnesses or accidents? a broken leg i got from playing football when i was 17. i was in the school team at that time. anything else? no. apart from that, nothing. and have you had any operations of any kind? now the only time i've been to hospital before was when i broke my leg. fine. any allergies? yes, to dust and cats. how do you react? they both make me sneeze a bit. nothing else.\n",
      "0.0\n",
      "True\n",
      "(array([], dtype=int64),)\n",
      "True\n",
      "(array([], dtype=int64),)\n"
     ]
    }
   ],
   "source": [
    "import numpy as np\n",
    "\n",
    "cased_mutual_s = np.random.choice(mutualplus_train_ctx)\n",
    "uncased_mutual_s = cased_mutual_s.lower()\n",
    "print(cased_mutual_s)\n",
    "print(uncased_mutual_s)\n",
    "\n",
    "x = np.array(embedder.embed_documents([cased_mutual_s, uncased_mutual_s]))\n",
    "print((x[0] - x[1]).min())\n",
    "print(np.allclose(x[0], x[1], atol=1e-7))\n",
    "print(np.where(~np.isclose(x[0], x[1])))\n",
    "\n",
    "x = np.array(embedder.embed_documents([uncased_mutual_s, uncased_mutual_s]))\n",
    "print(np.allclose(x[0], x[1], atol=1e-7))\n",
    "print(np.where(~np.isclose(x[0], x[1])))\n",
    "# print(x[0] - x[1])\n"
   ]
  },
  {
   "cell_type": "code",
   "execution_count": null,
   "metadata": {},
   "outputs": [
    {
     "name": "stdout",
     "output_type": "stream",
     "text": [
      "0.0\n",
      "True\n",
      "(array([], dtype=int64),)\n",
      "True\n",
      "(array([], dtype=int64),)\n"
     ]
    }
   ],
   "source": [
    "# tell the tokenizer to lower-case text before embedding\n",
    "embedder.client[0].do_lower_case = embedding_model_case_map[embedding_model_name]\n",
    "\n",
    "x = np.array(embedder.embed_documents([cased_mutual_s, uncased_mutual_s]))\n",
    "print((x[0] - x[1]).min())\n",
    "print(np.allclose(x[0], x[1], atol=1e-7))\n",
    "print(np.where(~np.isclose(x[0], x[1])))\n",
    "\n",
    "x = np.array(embedder.embed_documents([uncased_mutual_s, uncased_mutual_s]))\n",
    "print(np.allclose(x[0], x[1], atol=1e-7))\n",
    "print(np.where(~np.isclose(x[0], x[1])))\n",
    "# print(x[0] - x[1])\n"
   ]
  },
  {
   "cell_type": "markdown",
   "metadata": {},
   "source": [
    "### Tokens: amount of texts that would exceed model's context size - `max_seq_length` property"
   ]
  },
  {
   "cell_type": "code",
   "execution_count": null,
   "metadata": {},
   "outputs": [
    {
     "data": {
      "text/plain": [
       "BertTokenizerFast(name_or_path='/home/scur0643/.cache/torch/sentence_transformers/sentence-transformers_all-MiniLM-L6-v2/', vocab_size=30522, model_max_length=512, is_fast=True, padding_side='right', truncation_side='right', special_tokens={'unk_token': '[UNK]', 'sep_token': '[SEP]', 'pad_token': '[PAD]', 'cls_token': '[CLS]', 'mask_token': '[MASK]'}, clean_up_tokenization_spaces=True)"
      ]
     },
     "execution_count": null,
     "metadata": {},
     "output_type": "execute_result"
    }
   ],
   "source": [
    "embedder.client[0].tokenizer"
   ]
  },
  {
   "cell_type": "code",
   "execution_count": null,
   "metadata": {},
   "outputs": [],
   "source": [
    "from tqdm import trange\n",
    "\n",
    "\n",
    "def count_exceeding_tokens(\n",
    "    tokenizer, max_len: int, dataset: List[str], dataset_name: str, batch_size: int = -1\n",
    "):\n",
    "    exceeding, n_data = [], len(dataset)\n",
    "    # process in batch because a large dataset (~100k) won't work\n",
    "    if batch_size < 0:\n",
    "        batch_size = n_data\n",
    "    for i in trange(0, n_data, batch_size):\n",
    "        end = min(i + batch_size, n_data)\n",
    "        toks = tokenizer(dataset[i:end])[\"input_ids\"]\n",
    "        exceeding += [\n",
    "            (i, n_toks)\n",
    "            for i, s_toks in enumerate(toks)\n",
    "            if (n_toks := len(s_toks)) > max_len\n",
    "        ]\n",
    "    exceeding_dict = dict(zip([\"index\", \"n_toks\"], zip(*exceeding)))\n",
    "    min_exceeding = min(exceeding_dict[\"n_toks\"])\n",
    "    max_exceeding = max(exceeding_dict[\"n_toks\"])\n",
    "    n_exceeding = len(exceeding_dict[\"index\"])\n",
    "    prop_exceeding = n_exceeding / n_data\n",
    "    print(\n",
    "        f\"{dataset_name}: {n_exceeding}/{n_data} ({prop_exceeding * 100:.3f}%) exceed allowed len {max_len}, min {min_exceeding} max {max_exceeding}\"\n",
    "    )\n",
    "    return exceeding_dict"
   ]
  },
  {
   "cell_type": "code",
   "execution_count": null,
   "metadata": {},
   "outputs": [
    {
     "name": "stderr",
     "output_type": "stream",
     "text": [
      "100%|██████████| 1/1 [00:01<00:00,  1.11s/it]"
     ]
    },
    {
     "name": "stdout",
     "output_type": "stream",
     "text": [
      "mutualplus_train: 106/7088 (1.495%) exceed allowed len 256, min 257 max 394\n"
     ]
    },
    {
     "name": "stderr",
     "output_type": "stream",
     "text": [
      "\n"
     ]
    }
   ],
   "source": [
    "mutualplus_exceeding = count_exceeding_tokens(\n",
    "    embedder.client[0].tokenizer,\n",
    "    embedder.client[0].max_seq_length,\n",
    "    mutualplus_train_ctx,\n",
    "    \"mutualplus_train\",\n",
    ")"
   ]
  },
  {
   "cell_type": "markdown",
   "metadata": {},
   "source": [
    "For MuTual (plus), only 1.5% of the contexts won't fit in the encoder's context window and has to be broken down across\n",
    "multiple batches (prevents full self-attention). This is not a major issue."
   ]
  },
  {
   "cell_type": "code",
   "execution_count": null,
   "metadata": {},
   "outputs": [
    {
     "name": "stderr",
     "output_type": "stream",
     "text": [
      "  0%|          | 0/10 [00:00<?, ?it/s]"
     ]
    },
    {
     "name": "stderr",
     "output_type": "stream",
     "text": [
      "Token indices sequence length is longer than the specified maximum sequence length for this model (521 > 512). Running this sequence through the model will result in indexing errors\n",
      "100%|██████████| 10/10 [00:41<00:00,  4.12s/it]"
     ]
    },
    {
     "name": "stdout",
     "output_type": "stream",
     "text": [
      "mmlu_train: 70988/99842 (71.100%) exceed allowed len 256, min 257 max 1472\n"
     ]
    },
    {
     "name": "stderr",
     "output_type": "stream",
     "text": [
      "\n"
     ]
    }
   ],
   "source": [
    "mmlu_exceeding = count_exceeding_tokens(\n",
    "    embedder.client[0].tokenizer,\n",
    "    embedder.client[0].max_seq_length,\n",
    "    mmlu_train_ctx,\n",
    "    \"mmlu_train\",\n",
    "    batch_size=int(1e4)\n",
    ")"
   ]
  },
  {
   "cell_type": "code",
   "execution_count": null,
   "metadata": {},
   "outputs": [
    {
     "data": {
      "image/png": "[encoded data removed]",
      "text/plain": [
       "<Figure size 1000x500 with 2 Axes>"
      ]
     },
     "metadata": {},
     "output_type": "display_data"
    }
   ],
   "source": [
    "from matplotlib import pyplot as plt\n",
    "import seaborn as sns\n",
    "\n",
    "fig, axes = plt.subplots(1, 2, figsize=(10, 5))\n",
    "\n",
    "sns.histplot(mmlu_exceeding[\"n_toks\"], ax=axes[0])\n",
    "axes[0].set_xticks(np.delete(np.sort(np.append(np.arange(250.0, 1600, 200), 512.0)), 1))\n",
    "sns.boxplot(mmlu_exceeding[\"n_toks\"], ax=axes[1])\n",
    "axes[1].set_yticks(np.sort(np.append(np.arange(250.0, 1600, 100), 512.0)))\n",
    "fig.suptitle(\n",
    "    f\"Distribution of datapoints exceeding max_seq_length {embedder.client[0].max_seq_length} for MMLU\"\n",
    ")\n",
    "plt.tight_layout()"
   ]
  },
  {
   "cell_type": "markdown",
   "metadata": {},
   "source": [
    "For MMLU this is more problematic, as 71% of datapoints exceed the max context length of 256. However, more than 75% of \n",
    "these overly long contexts are below 512 tokens in length, so we can opt for a model with larger context size to recover\n",
    "them."
   ]
  },
  {
   "cell_type": "markdown",
   "metadata": {},
   "source": [
    "### Conclusion: use encoder model with larger context window"
   ]
  },
  {
   "cell_type": "markdown",
   "metadata": {},
   "source": [
    "`multi-qa-mpnet-base-dot-v1` is the [most performant](https://www.sbert.net/docs/pretrained_models.html#model-overview) in \n",
    "Semantic Search tasks, therefore apt for our requirements."
   ]
  },
  {
   "cell_type": "code",
   "execution_count": null,
   "metadata": {},
   "outputs": [
    {
     "data": {
      "text/plain": [
       "HuggingFaceEmbeddings(client=SentenceTransformer(\n",
       "  (0): Transformer({'max_seq_length': 512, 'do_lower_case': False}) with Transformer model: MPNetModel \n",
       "  (1): Pooling({'word_embedding_dimension': 768, 'pooling_mode_cls_token': True, 'pooling_mode_mean_tokens': False, 'pooling_mode_max_tokens': False, 'pooling_mode_mean_sqrt_len_tokens': False})\n",
       "), model_name='multi-qa-mpnet-base-dot-v1', cache_folder=None, model_kwargs={}, encode_kwargs={}, multi_process=False)"
      ]
     },
     "execution_count": null,
     "metadata": {},
     "output_type": "execute_result"
    }
   ],
   "source": [
    "embedding_model_name = \"multi-qa-mpnet-base-dot-v1\"\n",
    "embedder = HuggingFaceEmbeddings(model_name=embedding_model_name)\n",
    "embedder"
   ]
  },
  {
   "cell_type": "code",
   "execution_count": null,
   "metadata": {},
   "outputs": [
    {
     "data": {
      "text/plain": [
       "(512,\n",
       " MPNetTokenizerFast(name_or_path='/home/scur0643/.cache/torch/sentence_transformers/sentence-transformers_multi-qa-mpnet-base-dot-v1/', vocab_size=30527, model_max_length=512, is_fast=True, padding_side='right', truncation_side='right', special_tokens={'bos_token': '<s>', 'eos_token': '</s>', 'unk_token': '[UNK]', 'sep_token': '</s>', 'pad_token': '<pad>', 'cls_token': '<s>', 'mask_token': AddedToken(\"<mask>\", rstrip=False, lstrip=True, single_word=False, normalized=False)}, clean_up_tokenization_spaces=True))"
      ]
     },
     "execution_count": null,
     "metadata": {},
     "output_type": "execute_result"
    }
   ],
   "source": [
    "embedder.client[0].max_seq_length, embedder.client[0].tokenizer"
   ]
  },
  {
   "cell_type": "code",
   "execution_count": null,
   "metadata": {},
   "outputs": [
    {
     "name": "stderr",
     "output_type": "stream",
     "text": [
      "  0%|          | 0/10 [00:00<?, ?it/s]Token indices sequence length is longer than the specified maximum sequence length for this model (521 > 512). Running this sequence through the model will result in indexing errors\n",
      "100%|██████████| 10/10 [00:36<00:00,  3.62s/it]"
     ]
    },
    {
     "name": "stdout",
     "output_type": "stream",
     "text": [
      "mmlu_train: 5482/99842 (5.491%) exceed allowed len 512, min 513 max 1472\n"
     ]
    },
    {
     "name": "stderr",
     "output_type": "stream",
     "text": [
      "\n"
     ]
    }
   ],
   "source": [
    "mmlu_exceeding = count_exceeding_tokens(\n",
    "    embedder.client[0].tokenizer,\n",
    "    embedder.client[0].max_seq_length,\n",
    "    mmlu_train_ctx,\n",
    "    \"mmlu_train\",\n",
    "    batch_size=int(1e4)\n",
    ")"
   ]
  },
  {
   "cell_type": "code",
   "execution_count": null,
   "metadata": {},
   "outputs": [
    {
     "data": {
      "image/png": "[encoded data removed]",
      "text/plain": [
       "<Figure size 1000x500 with 2 Axes>"
      ]
     },
     "metadata": {},
     "output_type": "display_data"
    }
   ],
   "source": [
    "fig, axes = plt.subplots(1, 2, figsize=(10, 5))\n",
    "\n",
    "sns.histplot(mmlu_exceeding[\"n_toks\"], ax=axes[0])\n",
    "axes[0].set_xticks(np.insert(axes[0].get_xticks(), 0, 512))\n",
    "sns.boxplot(mmlu_exceeding[\"n_toks\"], ax=axes[1])\n",
    "axes[1].set_yticks(np.insert(axes[1].get_yticks(), 0, 512))\n",
    "fig.suptitle(\n",
    "    f\"Distribution of datapoints exceeding max_seq_length {embedder.client[0].max_seq_length} for MMLU\"\n",
    ")\n",
    "plt.tight_layout()"
   ]
  },
  {
   "cell_type": "markdown",
   "metadata": {},
   "source": [
    "Now only 5.5% of MMLU train datapoints exceed the encoder's max sequence length. We do not check on the dev and train \n",
    "splits, as the train split should be representative enough."
   ]
  },
  {
   "cell_type": "markdown",
   "metadata": {},
   "source": [
    "## Embed the documents into a [FAISS](https://github.com/facebookresearch/faiss) vector database"
   ]
  },
  {
   "cell_type": "markdown",
   "metadata": {},
   "source": [
    "#### MutualPlus train split"
   ]
  },
  {
   "cell_type": "code",
   "execution_count": null,
   "metadata": {},
   "outputs": [],
   "source": [
    "from langchain.schema.embeddings import Embeddings\n",
    "from langchain.vectorstores import FAISS, VectorStore\n",
    "\n",
    "from baseline.conf import VECTORDB_DIR\n",
    "\n",
    "\n",
    "def make_vectordb_dir_name(\n",
    "    subset: str,\n",
    "    split: str,\n",
    "    model_name: str,\n",
    "    vectordb_root: Union[Path, str] = VECTORDB_DIR,\n",
    ") -> str:\n",
    "    return str(vectordb_root / f\"{subset}__{split}__{model_name}\")\n",
    "\n",
    "\n",
    "def create_or_load_vectordb(\n",
    "    savedir: Union[str, Path],\n",
    "    embedder: Embeddings,\n",
    "    dataset: Optional[List[str]] = None,\n",
    "    index_name: Optional[str] = None,\n",
    ") -> VectorStore:\n",
    "    savedir = Path(savedir)\n",
    "    # when not given, assume index name is leaf folder name\n",
    "    if index_name is None:\n",
    "        index_name = savedir.stem\n",
    "    if savedir.is_dir():\n",
    "        print(f\"Loading FAISS db with index {index_name!r} from {str(savedir)!r}\")\n",
    "        return FAISS.load_local(savedir, embedder, index_name)\n",
    "    assert dataset is not None\n",
    "    print(f\"Creating FAISS db\")\n",
    "    db = FAISS.from_texts(dataset, embedder)\n",
    "    db.save_local(savedir, index_name)\n",
    "    print(f\"Saved FAISS db with index {index_name!r} from {savedir!r}\")\n",
    "    return db"
   ]
  },
  {
   "cell_type": "code",
   "execution_count": null,
   "metadata": {},
   "outputs": [
    {
     "data": {
      "text/plain": [
       "'vector_db/mutual_plus__train__multi-qa-mpnet-base-dot-v1'"
      ]
     },
     "execution_count": null,
     "metadata": {},
     "output_type": "execute_result"
    }
   ],
   "source": [
    "mutualplus_db_name = make_vectordb_dir_name(\n",
    "    \"mutual_plus\", \"train\", embedding_model_name\n",
    ")\n",
    "mutualplus_db_name"
   ]
  },
  {
   "cell_type": "code",
   "execution_count": null,
   "metadata": {},
   "outputs": [
    {
     "name": "stdout",
     "output_type": "stream",
     "text": [
      "Loading FAISS db with index 'mutual_plus__train__multi-qa-mpnet-base-dot-v1' from 'vector_db/mutual_plus__train__multi-qa-mpnet-base-dot-v1'\n"
     ]
    }
   ],
   "source": [
    "mutualplus_db = create_or_load_vectordb(\n",
    "    mutualplus_db_name, embedder, mutualplus_train_ctx\n",
    ")"
   ]
  },
  {
   "cell_type": "code",
   "execution_count": null,
   "metadata": {},
   "outputs": [
    {
     "data": {
      "text/plain": [
       "(<faiss.swigfaiss_avx2.IndexFlat; proxy of <Swig Object of type 'faiss::IndexFlat *'> >,\n",
       " 7088)"
      ]
     },
     "execution_count": null,
     "metadata": {},
     "output_type": "execute_result"
    }
   ],
   "source": [
    "mutualplus_db.index, mutualplus_db.index.ntotal"
   ]
  },
  {
   "cell_type": "markdown",
   "metadata": {},
   "source": [
    "Searching a context from the same dataset should return the exact same context as an identity."
   ]
  },
  {
   "cell_type": "code",
   "execution_count": null,
   "metadata": {},
   "outputs": [
    {
     "name": "stdout",
     "output_type": "stream",
     "text": [
      "Good morning. Morning. Come in. Sit down. Now, you're a new patient, aren't you? Yes, that's right. OK. So I better ask you some questions first. Now, have you ever had any serious illnesses or accidents? A broken leg I got from playing football when I was 17. I was in the school team at that time. Anything else? No. Apart from that, nothing. And have you had any operations of any kind? Now the only time I've been to hospital before was when I broke my leg. Fine. Any allergies? Yes, to dust and cats. How do you react? They both make me sneeze a bit. Nothing else.\n"
     ]
    },
    {
     "data": {
      "text/plain": [
       "[Document(page_content=\"Good morning. Morning. Come in. Sit down. Now, you're a new patient, aren't you? Yes, that's right. OK. So I better ask you some questions first. Now, have you ever had any serious illnesses or accidents? A broken leg I got from playing football when I was 17. I was in the school team at that time. Anything else? No. Apart from that, nothing. And have you had any operations of any kind? Now the only time I've been to hospital before was when I broke my leg. Fine. Any allergies? Yes, to dust and cats. How do you react? They both make me sneeze a bit. Nothing else.\", metadata={}),\n",
       " Document(page_content=\"Good morning. Morning. Come in. Sit down. Now, you're a new patient, aren't you? Yes, that's right. OK. So I better ask you some questions first. Now, have you ever had any serious illnesses or accidents? A broken leg I got from playing football when I was 17. I was in the school team at that time. Anything else? No. Apart from that, nothing. And have you had any operations of any kind? Now the only time I've been to hospital before was when I broke my leg. Fine. Any allergies? Yes, to dust and cats. How do you react? They both make me sneeze a bit. Nothing else.\", metadata={}),\n",
       " Document(page_content=\"Good morning. Morning. Come in, sit down. Now, you're a new patient, aren't you? Yes, that's right. Ok, so I better ask you some questions first. Now, have you ever had any serious illnesses or accidents? A broken leg I got from playing football when I was 17. I was in the school team at that time. Anything else? No, apart from that, nothing. And have you had any operations of any kind? No, the only time I've been to hospital before, was when I broke my leg. Fine, any allergies? Yes, to dust and cats. How do you react? They both make me sneeze a bit, nothing else.\", metadata={}),\n",
       " Document(page_content=\"Good morning. Morning. Come in. Sit down. Now, you're a new patient, aren't you? Yes, that's right. OK. So I better ask you some questions first. Now, have you ever had any serious illnesses or accidents? A broken leg I got from playing football when I was 17. I was in the school team at that time.\", metadata={})]"
      ]
     },
     "execution_count": null,
     "metadata": {},
     "output_type": "execute_result"
    }
   ],
   "source": [
    "print(cased_mutual_s)\n",
    "mutualplus_db.similarity_search(cased_mutual_s)"
   ]
  },
  {
   "cell_type": "markdown",
   "metadata": {},
   "source": [
    "#### MMLU train split"
   ]
  },
  {
   "cell_type": "markdown",
   "metadata": {},
   "source": [
    "Normally we would encode documents in the vector database along with some metadata -- e.g. for MuTual the file name of the\n",
    "datapoint -- but right now we skip this, and will recreate the database if needed."
   ]
  },
  {
   "cell_type": "code",
   "execution_count": null,
   "metadata": {},
   "outputs": [
    {
     "data": {
      "text/plain": [
       "'vector_db/mmlu__train__multi-qa-mpnet-base-dot-v1'"
      ]
     },
     "execution_count": null,
     "metadata": {},
     "output_type": "execute_result"
    }
   ],
   "source": [
    "mmlu_db_name = make_vectordb_dir_name(\"mmlu\", \"train\", embedding_model_name)\n",
    "mmlu_db_name"
   ]
  },
  {
   "cell_type": "markdown",
   "metadata": {},
   "source": [
    "I assessed that simply calling\n",
    "```python\n",
    "mmmlu_db = create_or_load_vectordb(mmlu_db_name, embedder, mmlu_train_ctx)\n",
    "```\n",
    "takes forever (>7min). So let's try to embed the MMLU documents in batches first, then to create \n",
    "the vector database. Note that `batch_size` is not the actual batch size, which is controlled\n",
    "by the constructor of `HuggingFaceEmbedding` and defaults to 32."
   ]
  },
  {
   "cell_type": "code",
   "execution_count": null,
   "metadata": {},
   "outputs": [
    {
     "name": "stdout",
     "output_type": "stream",
     "text": [
      "Loading MMLU vector db with index 'mmlu__train__multi-qa-mpnet-base-dot-v1' from 'vector_db/mmlu__train__multi-qa-mpnet-base-dot-v1'\n"
     ]
    }
   ],
   "source": [
    "mmlu_db_dir = Path(mmlu_db_name)\n",
    "if not mmlu_db_dir.is_dir():\n",
    "    # approx 8min to run\n",
    "    batch_size = int(1e4)\n",
    "    mmlu_embeddings = np.zeros(\n",
    "        (len(mmlu_train_ctx), embedder.client[1].word_embedding_dimension)\n",
    "    )\n",
    "    for i in trange(0, len(mmlu_train_ctx), batch_size):\n",
    "        end = min(i + batch_size, len(mmlu_train_ctx))\n",
    "        mmlu_embeddings[i:end, :] = np.array(\n",
    "            embedder.embed_documents(mmlu_train_ctx[i:end])\n",
    "        )\n",
    "    print(\"Creating MMLU vector db\")\n",
    "    mmlu_db = FAISS.from_embeddings(list(zip(mmlu_train_ctx, mmlu_embeddings.tolist())), embedder)\n",
    "    mmlu_db.save_local(mmlu_db_dir, mmlu_db_dir.stem)\n",
    "    print(f\"Saved MMLU vector db with index {mmlu_db_dir.stem!r} to {str(mmlu_db_dir)!r}\")\n",
    "else:\n",
    "    print(f\"Loading MMLU vector db with index {mmlu_db_dir.stem!r} from {str(mmlu_db_dir)!r}\")\n",
    "    mmlu_db = FAISS.load_local(mmlu_db_dir, embedder, mmlu_db_dir.stem)\n"
   ]
  },
  {
   "cell_type": "markdown",
   "metadata": {},
   "source": [
    "The dense vectors stored in the database can be retrieved with `.reconstruct()` method; the key passed is the same index\n",
    "of the context as stored in the original list used to create the database, in case of a [`FlatIndex`](https://github.com/facebookresearch/faiss/wiki/Faiss-indexes#flat-indexes)."
   ]
  },
  {
   "cell_type": "code",
   "execution_count": null,
   "metadata": {},
   "outputs": [
    {
     "name": "stdout",
     "output_type": "stream",
     "text": [
      "80870\n"
     ]
    },
    {
     "data": {
      "text/plain": [
       "(768,)"
      ]
     },
     "execution_count": null,
     "metadata": {},
     "output_type": "execute_result"
    }
   ],
   "source": [
    "query_idx = np.random.randint(0, len(mmlu_train_ctx) + 1)\n",
    "print(query_idx)\n",
    "mmlu_db.index.reconstruct(query_idx).shape"
   ]
  },
  {
   "cell_type": "markdown",
   "metadata": {},
   "source": [
    "##### Query: `mmlu`, search: `mutual` (smaller search space)."
   ]
  },
  {
   "cell_type": "code",
   "execution_count": null,
   "metadata": {},
   "outputs": [
    {
     "name": "stdout",
     "output_type": "stream",
     "text": [
      "Sometimes we feel good, such as when we get good grades or when something good happens. Sometimes we feel bad, such as when we argue with our classmates or when the teachers criticize us. Both kinds of feelings are common. Of course, we all enjoy good feelings, but when we feel unhappy, sometimes we don't know what to do about it. Here is a plan that will help you when your feelings are bothering you. 1. ACCEPT your feelings. Say to yourself, \"I am sad. \" \"I am scared. \" \"I am angry. \" \"I am embarrassed. \" It's all right to have these feelings. 2. RELAX and have a rest before you act.  Take slow deep breaths   and relax your body. Imagine that you are in a safe place.  You can listen to some music or sing a beautiful song ! 3. THINK about ways to help yourself. Thinking helps you do something smart instead of hurting yourself or making things worse. 4. DO something to help yourself.  Maybe you can talk to someone, or do something you enjoy. _ , go back to Step 3. If you want to relax yourself before you act, you can  _\n",
      "page_content='Sometimes we feel good, such as when we get good grades or when something good happens. Sometimes we feel bad, such as when we argue with our classmates or when the teachers criticize us. Both kinds of feelings are common. Of course, we all enjoy good feelings, but when we feel unhappy, sometimes we don\\'t know what to do about it. Here is a plan that will help you when your feelings are bothering you. 1. ACCEPT your feelings. Say to yourself, \"I am sad. \" \"I am scared. \" \"I am angry. \" \"I am embarrassed. \" It\\'s all right to have these feelings. 2. RELAX and have a rest before you act.  Take slow deep breaths   and relax your body. Imagine that you are in a safe place.  You can listen to some music or sing a beautiful song ! 3. THINK about ways to help yourself. Thinking helps you do something smart instead of hurting yourself or making things worse. 4. DO something to help yourself.  Maybe you can talk to someone, or do something you enjoy. _ , go back to Step 3. If you want to relax yourself before you act, you can  _' metadata={}\n"
     ]
    },
    {
     "data": {
      "text/plain": [
       "[(Document(page_content='Good day at school Bobby? Yeah, pretty good, except for one little thing. Then why do I have a sinking feeling in my stomach. Failed exams, your teacher wants to talk to me or?', metadata={}),\n",
       "  34.901672),\n",
       " (Document(page_content=\"I feel terrible. I really need to relax. Do you know any good ways to fight stress? Yes. In fact, I read in a health magazine that you can drink 2 cups of lemon tea every day. That will be helpful to deal with stress. Lemon tea? That's right. Lemon tea makes you feel more relaxed. Besides, you should eat low stress foods like apples and grapes. Sounds very strange. I guess hamburgers and French fries cause stress. Right? Yes, hamburgers are stress food.\", metadata={}),\n",
       "  35.148117),\n",
       " (Document(page_content=\"You just don't know what I feel. Everything is getting worse because of him! Stop blaming other people. Be patient and think positively.\", metadata={}),\n",
       "  38.58486),\n",
       " (Document(page_content='I feel terrible. I really need to relax. Do you know any good ways to fight stress? Yes. In fact, I read in a health magazine that you can drink 2 cups of lemon tea every day. That will be helpful to deal with stress. Lemon tea?', metadata={}),\n",
       "  38.884415)]"
      ]
     },
     "execution_count": null,
     "metadata": {},
     "output_type": "execute_result"
    }
   ],
   "source": [
    "print(mmlu_train_ctx[query_idx])\n",
    "print(mmlu_db.docstore.search(mmlu_db.index_to_docstore_id[query_idx]))\n",
    "mutualplus_db.similarity_search_with_score_by_vector(\n",
    "    mmlu_db.index.reconstruct(query_idx).tolist()\n",
    ")"
   ]
  },
  {
   "cell_type": "markdown",
   "metadata": {},
   "source": [
    "##### Query: `mutual`, search: `mmlu`."
   ]
  },
  {
   "cell_type": "code",
   "execution_count": null,
   "metadata": {},
   "outputs": [
    {
     "name": "stdout",
     "output_type": "stream",
     "text": [
      "4543\n",
      "How do you like the party? Oh, I'm having so much fun. I hope it will last longer. Actually, I was coming over to tell you I'm going to leave now. I don't know anybody here but you. Oh, I'm sorry. I should have introduced you to more people here.\n",
      "page_content=\"How do you like the party? Oh, I'm having so much fun. I hope it will last longer. Actually, I was coming over to tell you I'm going to leave now. I don't know anybody here but you. Oh, I'm sorry. I should have introduced you to more people here.\" metadata={}\n"
     ]
    },
    {
     "data": {
      "text/plain": [
       "[(Document(page_content=\"My name is Bill. I have a friend called Mike. Today is Mike's birthday. I'm at his birthday party. There are a lot of friends in his house. Some stand beside the table and enjoy the snacks and drinks. There is some food on the table. I like the chocolate and the fruit very much. Mike sits on the sofa and chats with some friends there. He wears a yellow T-shirt and a pair of blue jeans. He looks so cool today. Wow! The cake is really big. There are some candles   on it. Mike's friends begin to sing 'Happy Birthday' to Mike. Mike is very happy. He blows out   the candles and cuts the cake. Everyone has a good time at the party. There are a lot of friends at   _   birthday party.\", metadata={}),\n",
       "  23.373278),\n",
       " (Document(page_content='It was Christmas,and there was a big party in the house.Guests came and went,but the party went on.Then the bell rang.Several people shouted. \"Come in!\" and a small man opened the front door and came in.Nobody knew him,but the host went to meet him and took him to the bar for a drink.The man sat there happily for an hour and a half and drank.Then suddenly he stopped and looked at the host .\"Do you know,\"he said,\"Nobody invited me to this party.I don\\'t know you,I don\\'t know your wife and I don\\'t know any of your guests.My wife and I wanted to go out in our car, but one of your guests\\' cars was in front of our gate,so I came here to find him,and my wife is waiting in our car for me to come back!\" There was   _   in the house.', metadata={}),\n",
       "  25.412148),\n",
       " (Document(page_content='There would be a school party on Friday evening. The girls were talking about what they were going to wear. \"I\\'m going to wear a black dress, so everybody will notice me,\" said Emily. \"How about you, Linda?\" \"I\\'m not sure. Maybe jeans, an old shirt, and a hat. People will notice me more than you!\" Linda said. \"What are we going to do about the boys?\" asked Jane. \"Do you remember the last school party, last year? They just stood there, and we girls had to dance by ourselves!\" \"I hear that some of the boys learned how to dance this summer. Maybe it\\'ll be better this time,\" said Mary. The party was held on Friday evening. Groups of students arrived. The music began. The girls stood in a line on one side, and the boys on another side. Mr. Green, their teacher, tried to get them together, but failed. After a while, Tim said, \"I don\\'t want to stand here the whole time. The party is only for two hours. It\\'ll be over soon.\" He started to dance. All the others watched him. Then David asked Emily if she wanted to dance. Then Jack and Linda. Then, all began to dance. Soon there were more dancers than watchers. The party was   _   last year.', metadata={}),\n",
       "  25.503777),\n",
       " (Document(page_content=\"Subject: party                                                  Hi! Jenny, My sister Ann and I are going to have a party this Friday at my home. Some friends will be there. Most of them are from the office. My best friend, Tom, will come, too. I want you to meet him. Do you want to come? We'll play games and talk. Then we'll have dinner. Everyone will bring food or drinks. It begins at 4:00 pm. and ends at 8 or 9 pm. We'll have a great time! Can you come?I hope so! Let me know soon. Call me or send me an e-mail. The party begins at   _  ?\", metadata={}),\n",
       "  25.647198)]"
      ]
     },
     "execution_count": null,
     "metadata": {},
     "output_type": "execute_result"
    }
   ],
   "source": [
    "query_idx = np.random.randint(0, len(mutualplus_train_ctx) + 1)\n",
    "print(query_idx)\n",
    "\n",
    "print(mutualplus_train_ctx[query_idx])\n",
    "print(mutualplus_db.docstore.search(mutualplus_db.index_to_docstore_id[query_idx]))\n",
    "mmlu_db.similarity_search_with_score_by_vector(\n",
    "    mutualplus_db.index.reconstruct(query_idx).tolist()\n",
    ")"
   ]
  },
  {
   "cell_type": "markdown",
   "metadata": {},
   "source": [
    "## Conclusion & TODO\n",
    "\n",
    "It seems that searching *over `MMLU`* with *queries from `mutual`* gives more accurate results than the contrary; intuitively\n",
    "it makes sense, since MMLU is 10x mutual, a search mutual -> MMLU can be more fine grained over a larger semantic space.\n",
    "\n",
    "Next action points:\n",
    "1. Save metadata in both vectorstore such as the index of each document in its creation list. This is useful after \n",
    "   search is done, to check that the retrieved documents have a correspondent in the original list -- sometimes \n",
    "   candidates too similar one to the other are retrieved, and I have the suspect that they are just chunks of the same \n",
    "   document.\n",
    "2. Understand what similarity metric is reported by default; for this one it seems lower = better.\n",
    "3. Understand if we should use the query functionality of `FAISS` directly, which allows batched queries whereas the \n",
    "   LangChain interface accepts a single query vector.\n",
    "4. Proceed with the experiments:\n",
    "\n",
    "   1. Add variable amounts of similar `MMLU` datapoints to `MutualPlus`, train a classifier and evaluate.\n",
    "   2. Experiment with similarity techinques (cosine, MMR, euclidean distance).\n",
    "   3. Check if keeping speaker tags improves the quality of similar points detection, maybe the encoder has seen so much\n",
    "      that it's able to figure out the dialogue structure."
   ]
  }
 ],
 "metadata": {
  "kernelspec": {
   "display_name": "Python 3",
   "language": "python",
   "name": "python3"
  }
 },
 "nbformat": 4,
 "nbformat_minor": 2
}
