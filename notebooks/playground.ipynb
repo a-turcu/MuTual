{
 "cells": [
  {
   "cell_type": "code",
   "execution_count": null,
   "metadata": {},
   "outputs": [],
   "source": [
    "%%capture\n",
    "\n",
    "%cd .."
   ]
  },
  {
   "cell_type": "markdown",
   "metadata": {},
   "source": [
    "# Similaraity exploration"
   ]
  },
  {
   "cell_type": "code",
   "execution_count": null,
   "metadata": {},
   "outputs": [],
   "source": [
    "from sentence_transformers import SentenceTransformer, util\n"
   ]
  },
  {
   "cell_type": "code",
   "execution_count": null,
   "metadata": {},
   "outputs": [
    {
     "data": {
      "text/plain": [
       "SentenceTransformer(\n",
       "  (0): Transformer({'max_seq_length': 256, 'do_lower_case': False}) with Transformer model: BertModel \n",
       "  (1): Pooling({'word_embedding_dimension': 384, 'pooling_mode_cls_token': False, 'pooling_mode_mean_tokens': True, 'pooling_mode_max_tokens': False, 'pooling_mode_mean_sqrt_len_tokens': False})\n",
       "  (2): Normalize()\n",
       ")"
      ]
     },
     "execution_count": null,
     "metadata": {},
     "output_type": "execute_result"
    }
   ],
   "source": [
    "model = SentenceTransformer(\"all-MiniLM-L6-v2\")\n",
    "model\n"
   ]
  },
  {
   "cell_type": "code",
   "execution_count": null,
   "metadata": {},
   "outputs": [],
   "source": [
    "# Two lists of sentences\n",
    "sentences1 = [\n",
    "    \"The cat sits outside\",\n",
    "    \"A man is playing guitar\",\n",
    "    \"The new movie is awesome\",\n",
    "]\n",
    "sentences2 = [\n",
    "    \"The dog plays in the garden\",\n",
    "    \"A woman watches TV\",\n",
    "    \"The new movie is so great\",\n",
    "]\n"
   ]
  },
  {
   "cell_type": "code",
   "execution_count": null,
   "metadata": {},
   "outputs": [
    {
     "name": "stdout",
     "output_type": "stream",
     "text": [
      "torch.Size([3, 384])\n"
     ]
    }
   ],
   "source": [
    "# Compute embedding for both lists\n",
    "embeddings1 = model.encode(sentences1, convert_to_tensor=True)\n",
    "embeddings2 = model.encode(sentences2, convert_to_tensor=True)\n",
    "print(embeddings1.shape)\n",
    "assert embeddings1.shape == embeddings2.shape\n"
   ]
  },
  {
   "cell_type": "code",
   "execution_count": null,
   "metadata": {},
   "outputs": [
    {
     "data": {
      "text/plain": [
       "torch.Size([3, 3])"
      ]
     },
     "execution_count": null,
     "metadata": {},
     "output_type": "execute_result"
    }
   ],
   "source": [
    "# Compute cosine-similarities\n",
    "cosine_scores = util.cos_sim(embeddings1, embeddings2)\n",
    "cosine_scores.shape\n"
   ]
  },
  {
   "cell_type": "code",
   "execution_count": null,
   "metadata": {},
   "outputs": [
    {
     "name": "stdout",
     "output_type": "stream",
     "text": [
      "The cat sits outside \t\t The dog plays in the garden \t\t Score: 0.2838\n",
      "A man is playing guitar \t\t A woman watches TV \t\t Score: -0.0327\n",
      "The new movie is awesome \t\t The new movie is so great \t\t Score: 0.8939\n"
     ]
    }
   ],
   "source": [
    "# Output the pairs with their score\n",
    "for i in range(len(sentences1)):\n",
    "    print(\n",
    "        \"{} \\t\\t {} \\t\\t Score: {:.4f}\".format(\n",
    "            sentences1[i], sentences2[i], cosine_scores[i][i]\n",
    "        )\n",
    "    )\n"
   ]
  },
  {
   "cell_type": "code",
   "execution_count": null,
   "metadata": {},
   "outputs": [
    {
     "data": {
      "text/plain": [
       "tensor([[ 0.2838,  0.1310, -0.0029],\n",
       "        [ 0.2277, -0.0327, -0.0136],\n",
       "        [ 0.0543, -0.0502,  0.8939]])"
      ]
     },
     "execution_count": null,
     "metadata": {},
     "output_type": "execute_result"
    }
   ],
   "source": [
    "cosine_scores\n"
   ]
  },
  {
   "cell_type": "markdown",
   "metadata": {},
   "source": [
    "Rank `sentences1` by most similar sentences in `sentences2`."
   ]
  },
  {
   "cell_type": "code",
   "execution_count": null,
   "metadata": {},
   "outputs": [
    {
     "data": {
      "text/plain": [
       "torch.return_types.sort(\n",
       "values=tensor([[ 0.2838,  0.1310, -0.0029],\n",
       "        [ 0.2277, -0.0136, -0.0327],\n",
       "        [ 0.8939,  0.0543, -0.0502]]),\n",
       "indices=tensor([[0, 1, 2],\n",
       "        [0, 2, 1],\n",
       "        [2, 0, 1]]))"
      ]
     },
     "execution_count": null,
     "metadata": {},
     "output_type": "execute_result"
    }
   ],
   "source": [
    "import torch\n",
    "\n",
    "# do the ranking\n",
    "ranks = torch.sort(cosine_scores, dim=-1, descending=True)\n",
    "ranks\n"
   ]
  },
  {
   "cell_type": "code",
   "execution_count": null,
   "metadata": {},
   "outputs": [
    {
     "name": "stdout",
     "output_type": "stream",
     "text": [
      "Most similar sentences to 'The cat sits outside':\n",
      "('The dog plays in the garden', tensor(0.2838))\n",
      "('A woman watches TV', tensor(0.1310))\n",
      "('The new movie is so great', tensor(-0.0029))\n",
      "Delta similarity with rank 1: tensor([0.0000, 0.1527, 0.2866])\n",
      "\n",
      "Most similar sentences to 'A man is playing guitar':\n",
      "('The dog plays in the garden', tensor(0.2277))\n",
      "('The new movie is so great', tensor(-0.0136))\n",
      "('A woman watches TV', tensor(-0.0327))\n",
      "Delta similarity with rank 1: tensor([0.0000, 0.2413, 0.2604])\n",
      "\n",
      "Most similar sentences to 'The new movie is awesome':\n",
      "('The new movie is so great', tensor(0.8939))\n",
      "('The dog plays in the garden', tensor(0.0543))\n",
      "('A woman watches TV', tensor(-0.0502))\n",
      "Delta similarity with rank 1: tensor([0.0000, 0.8396, 0.9441])\n",
      "\n"
     ]
    }
   ],
   "source": [
    "diff_with_top = ranks.values[:, 0, None] - ranks.values\n",
    "\n",
    "for i, (val, idx, diff) in enumerate(zip(*ranks, diff_with_top)):\n",
    "    print(f\"Most similar sentences to {sentences1[i]!r}:\")\n",
    "    for v, j in zip(val, idx):\n",
    "        print((sentences2[j], v))\n",
    "    print(f\"Delta similarity with rank 1: {diff}\")\n",
    "    print()\n"
   ]
  },
  {
   "cell_type": "markdown",
   "metadata": {},
   "source": [
    "# Preprocessing: remove speaker roles"
   ]
  },
  {
   "cell_type": "code",
   "execution_count": null,
   "metadata": {},
   "outputs": [
    {
     "name": "stderr",
     "output_type": "stream",
     "text": [
      "read files:   0%|          | 0/886 [00:00<?, ?it/s]"
     ]
    },
    {
     "name": "stderr",
     "output_type": "stream",
     "text": [
      "read files: 100%|██████████| 886/886 [00:00<00:00, 2514.39it/s]\n"
     ]
    },
    {
     "data": {
      "text/plain": [
       "<InputExample(context=M: Well, that's great that you have happy experiences of teaching in Indonesia and following up on what you just mentioned. What would you recommend for students who do not live in an English speaking country? I don't know about perfecting but they want at least to be able to communicate decently. How can they go about this? F: Yeah, it is really hard that is the real struggle because right now I do live in Holland. But I really don't socialize much with Dutch People and my boyfriend's English is so good that we just basically speak English all the time. So I have to make a real effort to practice. There isn't as much listening exposure as I want, all I have to do is turn on the TV., endings=['M: So, now you are in Holland and you and your boyfriend just basically '\n",
       " 'speak English all the time?',\n",
       " 'M: Really? Now you are in Indonesia and you and your boyfriend just '\n",
       " 'basically speak Chinese all the time?',\n",
       " 'M: I’m sorry, I don’t understand. Could you say it again?',\n",
       " \"M: So, you don't have to make a real effort to practice and now you are in \"\n",
       " 'Sweden? Okay, I see.'], label=-33, id=test-data/mutual_plus/test/test_294.txt)>"
      ]
     },
     "execution_count": null,
     "metadata": {},
     "output_type": "execute_result"
    }
   ],
   "source": [
    "from baseline.multi_choice.utils_multiple_choice import MuTualProcessor\n",
    "from baseline.conf import DATA_DIR\n",
    "\n",
    "p = MuTualProcessor()\n",
    "test_split = p.get_test_examples(DATA_DIR / \"mutual_plus\")\n",
    "test_split[0]\n"
   ]
  },
  {
   "cell_type": "markdown",
   "metadata": {},
   "source": [
    "In order to keep using the dataset coming together with the repo and the utilities \n",
    "accompanying it, we can simply read examples like in the original code, and simply \n",
    "keep datapoints structure by processing them in memory. `deepcopy` the original \n",
    "object if you don't want to lose it."
   ]
  },
  {
   "cell_type": "code",
   "execution_count": null,
   "metadata": {},
   "outputs": [
    {
     "data": {
      "text/plain": [
       "<InputExample(context=Well, that's great that you have happy experiences of teaching in Indonesia and following up on what you just mentioned. What would you recommend for students who do not live in an English speaking country? I don't know about perfecting but they want at least to be able to communicate decently. How can they go about this? Yeah, it is really hard that is the real struggle because right now I do live in Holland. But I really don't socialize much with Dutch People and my boyfriend's English is so good that we just basically speak English all the time. So I have to make a real effort to practice. There isn't as much listening exposure as I want, all I have to do is turn on the TV., endings=['So, now you are in Holland and you and your boyfriend just basically speak '\n",
       " 'English all the time?',\n",
       " 'Really? Now you are in Indonesia and you and your boyfriend just basically '\n",
       " 'speak Chinese all the time?',\n",
       " 'I’m sorry, I don’t understand. Could you say it again?',\n",
       " \"So, you don't have to make a real effort to practice and now you are in \"\n",
       " 'Sweden? Okay, I see.'], label=-33, id=test-data/mutual_plus/test/test_294.txt)>"
      ]
     },
     "execution_count": null,
     "metadata": {},
     "output_type": "execute_result"
    }
   ],
   "source": [
    "for dp in test_split:\n",
    "    dp.inplace_remove_speakers()\n",
    "test_split[0]\n"
   ]
  },
  {
   "cell_type": "code",
   "execution_count": null,
   "metadata": {},
   "outputs": [
    {
     "name": "stderr",
     "output_type": "stream",
     "text": [
      "read files: 100%|██████████| 7088/7088 [00:00<00:00, 17101.57it/s]"
     ]
    },
    {
     "name": "stdout",
     "output_type": "stream",
     "text": [
      "{'answers': 'B', 'options': ['F:  I am so glad to hear that you will work in the library for your friend.', 'F:  Sure. You can make more money if you work as a waiter in the restaurant.', 'F:  You worked as a waiter last year. It seems that you want make more money.', 'F: Just a minute! I do not quite follow what you are saying, would you mind repeating that?'], 'article': \"F: Hi, can I help you? M: I hope so. My name is Mark. I'm... F: Don't I remember you from last year? You worked in, uh, where was it? The art library? M: You have a good memory. Yeah, that was me, and I really enjoyed the work. But for this year. F: Well, if you come in earlier. You could probably have gotten the library job again, but now... M: I plan to get a job in a restaurant this year. I really need it to make more money and working as a waiter. There always the tips. But I've tried a ton of places and I haven't found anything, and then my friend Susan. She takes photography classes in Harrison Hall. And she sort of thought there might be an opening there.\", 'id': 'data/mutual_plus/train/train_1411.txt'}\n"
     ]
    },
    {
     "name": "stderr",
     "output_type": "stream",
     "text": [
      "\n"
     ]
    }
   ],
   "source": [
    "train_split = p.get_train_examples(DATA_DIR / \"mutual_plus\")"
   ]
  },
  {
   "cell_type": "code",
   "execution_count": null,
   "metadata": {},
   "outputs": [
    {
     "name": "stderr",
     "output_type": "stream",
     "text": [
      "read files: 100%|██████████| 886/886 [00:00<00:00, 1620.35it/s]"
     ]
    },
    {
     "name": "stdout",
     "output_type": "stream",
     "text": [
      "{'answers': 'C', 'options': ['F: Oh, you have been a bus driver for about one year.', 'F: You have been a bus driver for about 10 years.', 'F: Wow. You have been a bus driver for about 11 years.', 'F: I’m sorry, I didn’t catch that. Would you mind speaking more slowly?'], 'article': 'F: So, how long have you been driving this bus? M: For about a year. But before I drove this bus, I had been driving buses for 10 years.', 'id': 'data/mutual_plus/dev/dev_681.txt'}\n"
     ]
    },
    {
     "name": "stderr",
     "output_type": "stream",
     "text": [
      "\n"
     ]
    }
   ],
   "source": [
    "dev_split = p.get_dev_examples(DATA_DIR / \"mutual_plus\")"
   ]
  },
  {
   "cell_type": "code",
   "execution_count": null,
   "metadata": {},
   "outputs": [
    {
     "name": "stderr",
     "output_type": "stream",
     "text": [
      "read files:   0%|          | 0/886 [00:00<?, ?it/s]"
     ]
    },
    {
     "name": "stderr",
     "output_type": "stream",
     "text": [
      "read files: 100%|██████████| 886/886 [00:00<00:00, 19078.53it/s]"
     ]
    },
    {
     "name": "stdout",
     "output_type": "stream",
     "text": [
      "{'answers': ' ', 'options': ['M: So, now you are in Holland and you and your boyfriend just basically speak English all the time?', 'M: Really? Now you are in Indonesia and you and your boyfriend just basically speak Chinese all the time?', 'M: I’m sorry, I don’t understand. Could you say it again?', \"M: So, you don't have to make a real effort to practice and now you are in Sweden? Okay, I see.\"], 'article': \"M: Well, that's great that you have happy experiences of teaching in Indonesia and following up on what you just mentioned. What would you recommend for students who do not live in an English speaking country? I don't know about perfecting but they want at least to be able to communicate decently. How can they go about this? F: Yeah, it is really hard that is the real struggle because right now I do live in Holland. But I really don't socialize much with Dutch People and my boyfriend's English is so good that we just basically speak English all the time. So I have to make a real effort to practice. There isn't as much listening exposure as I want, all I have to do is turn on the TV.\", 'id': 'data/mutual_plus/test/test_294.txt'}\n"
     ]
    },
    {
     "name": "stderr",
     "output_type": "stream",
     "text": [
      "\n"
     ]
    }
   ],
   "source": [
    "test_split = p.get_test_examples(DATA_DIR / \"mutual_plus\")"
   ]
  },
  {
   "cell_type": "code",
   "execution_count": null,
   "metadata": {},
   "outputs": [
    {
     "data": {
      "text/plain": [
       "'-33'"
      ]
     },
     "execution_count": null,
     "metadata": {},
     "output_type": "execute_result"
    }
   ],
   "source": [
    "el = \" \"\n",
    "str(ord(el) - ord(\"A\"))"
   ]
  }
 ],
 "metadata": {
  "kernelspec": {
   "display_name": "Python 3",
   "language": "python",
   "name": "python3"
  }
 },
 "nbformat": 4,
 "nbformat_minor": 2
}
